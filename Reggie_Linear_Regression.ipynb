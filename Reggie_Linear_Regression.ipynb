{
 "cells": [
  {
   "cell_type": "code",
   "execution_count": 1,
   "id": "c0934243-a9a0-406b-bcc1-d1a2915fc30d",
   "metadata": {},
   "outputs": [],
   "source": [
    "# returns the y with implemented m, b, x\n",
    "def get_y(m, b, x):\n",
    "    y = m * x + b\n",
    "    return y"
   ]
  },
  {
   "cell_type": "code",
   "execution_count": 2,
   "id": "c7291a2b-0315-48a0-88e7-d8c59e427461",
   "metadata": {},
   "outputs": [
    {
     "name": "stdout",
     "output_type": "stream",
     "text": [
      "True\n",
      "True\n"
     ]
    }
   ],
   "source": [
    "print(get_y(1, 0, 7) == 7)\n",
    "print(get_y(5, 10, 3) == 25)"
   ]
  },
  {
   "cell_type": "code",
   "execution_count": 3,
   "id": "b9e44f4d-8d2c-4362-a910-60d4ced536db",
   "metadata": {},
   "outputs": [],
   "source": [
    "# calculate error between a point and a line\n",
    "def calculate_error(m, b, point ):\n",
    "    x_point, y_point = point\n",
    "    y = m * x_point + b\n",
    "    distance = abs(y - y_point)\n",
    "    return distance"
   ]
  },
  {
   "cell_type": "code",
   "execution_count": 4,
   "id": "125e5c60-d0f0-4cfb-a752-2b39818bf2b5",
   "metadata": {},
   "outputs": [
    {
     "name": "stdout",
     "output_type": "stream",
     "text": [
      "0\n",
      "1\n",
      "1\n",
      "5\n"
     ]
    }
   ],
   "source": [
    "#this is a line that looks like y = x, so (3, 3) should lie on it. thus, error should be 0:\n",
    "print(calculate_error(1, 0, (3, 3)))\n",
    "#the point (3, 4) should be 1 unit away from the line y = x:\n",
    "print(calculate_error(1, 0, (3, 4)))\n",
    "#the point (3, 3) should be 1 unit away from the line y = x - 1:\n",
    "print(calculate_error(1, -1, (3, 3)))\n",
    "#the point (3, 3) should be 5 units away from the line y = -x + 1:\n",
    "print(calculate_error(-1, 1, (3, 3)))"
   ]
  },
  {
   "cell_type": "code",
   "execution_count": 5,
   "id": "85a6f5aa-937c-46ad-bdde-ececdbd54cf9",
   "metadata": {},
   "outputs": [],
   "source": [
    "# calculates and returns the total error\n",
    "def calculate_all_error(m, b, points):\n",
    "    total_error = 0\n",
    "    for point in points:\n",
    "        point_error = calculate_error(m, b, point)\n",
    "        total_error += point_error\n",
    "    return total_error"
   ]
  },
  {
   "cell_type": "code",
   "execution_count": 6,
   "id": "3aadf97f-f054-406b-be3d-07c62cbf9795",
   "metadata": {},
   "outputs": [
    {
     "name": "stdout",
     "output_type": "stream",
     "text": [
      "0\n",
      "4\n",
      "4\n",
      "18\n"
     ]
    }
   ],
   "source": [
    "#every point in this dataset lies upon y=x, so the total error should be zero:\n",
    "datapoints = [(1, 1), (3, 3), (5, 5), (-1, -1)]\n",
    "print(calculate_all_error(1, 0, datapoints))\n",
    "\n",
    "#every point in this dataset is 1 unit away from y = x + 1, so the total error should be 4:\n",
    "datapoints = [(1, 1), (3, 3), (5, 5), (-1, -1)]\n",
    "print(calculate_all_error(1, 1, datapoints))\n",
    "\n",
    "#every point in this dataset is 1 unit away from y = x - 1, so the total error should be 4:\n",
    "datapoints = [(1, 1), (3, 3), (5, 5), (-1, -1)]\n",
    "print(calculate_all_error(1, -1, datapoints))\n",
    "\n",
    "\n",
    "#the points in this dataset are 1, 5, 9, and 3 units away from y = -x + 1, respectively, so total error should be\n",
    "# 1 + 5 + 9 + 3 = 18\n",
    "datapoints = [(1, 1), (3, 3), (5, 5), (-1, -1)]\n",
    "print(calculate_all_error(-1, 1, datapoints))"
   ]
  },
  {
   "cell_type": "code",
   "execution_count": 12,
   "id": "7adac962-f924-4a06-8999-d39b5925c90c",
   "metadata": {},
   "outputs": [
    {
     "name": "stdout",
     "output_type": "stream",
     "text": [
      "0.30000000000000004 1.7000000000000002 4.999999999999999\n"
     ]
    }
   ],
   "source": [
    "# list of possible ms in the equation\n",
    "possible_ms = [m * 0.1 for m in range(-100, 101)]\n",
    "# list of possible bs in the equation\n",
    "possible_bs = [b * 0.1 for b in range(-200, 201)]\n",
    "\n",
    "datapoints = [(1, 2), (2, 0), (3, 4), (4, 4), (5, 3)]\n",
    "smallest_error = float(\"inf\")\n",
    "best_m = 0\n",
    "best_b = 0\n",
    "\n",
    "# iterates through each element to find possible_ms and possible_bs\n",
    "for m in possible_ms:\n",
    "    for b in possible_bs:\n",
    "        error = calculate_all_error(m, b, datapoints)\n",
    "        if error < smallest_error:\n",
    "            best_m = m\n",
    "            best_b = b\n",
    "            smallest_error = error\n",
    "# prints the best_m, best_b and smallest_error from data points\n",
    "print(best_m, best_b, smallest_error)"
   ]
  },
  {
   "cell_type": "code",
   "execution_count": 13,
   "id": "168aaed4-1b7c-4358-956b-8494c8ac0543",
   "metadata": {},
   "outputs": [
    {
     "name": "stdout",
     "output_type": "stream",
     "text": [
      "3.5\n"
     ]
    }
   ],
   "source": [
    "# the model predicts that the line that best fits \n",
    "# the data has a m of 0.3 and a b of 1.7\n",
    "# this line produced a total error of 5\n",
    "\n",
    "# what does the line predicts that the bounce \n",
    "# of a ball with a width of 6 to be?\n",
    "\n",
    "print(get_y(0.3, 1.7, 6))"
   ]
  },
  {
   "cell_type": "code",
   "execution_count": null,
   "id": "c5bbfe9a-1caa-4f52-8f20-01b3c69945e6",
   "metadata": {},
   "outputs": [],
   "source": []
  }
 ],
 "metadata": {
  "kernelspec": {
   "display_name": "Python 3 (ipykernel)",
   "language": "python",
   "name": "python3"
  },
  "language_info": {
   "codemirror_mode": {
    "name": "ipython",
    "version": 3
   },
   "file_extension": ".py",
   "mimetype": "text/x-python",
   "name": "python",
   "nbconvert_exporter": "python",
   "pygments_lexer": "ipython3",
   "version": "3.9.7"
  }
 },
 "nbformat": 4,
 "nbformat_minor": 5
}
